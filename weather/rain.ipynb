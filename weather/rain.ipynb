{
 "cells": [
  {
   "cell_type": "markdown",
   "id": "6c6485dd",
   "metadata": {},
   "source": [
    "Precipitation readings at weather-station level, updated every five minutes"
   ]
  },
  {
   "cell_type": "code",
   "execution_count": 7,
   "id": "1d7b7d4f",
   "metadata": {},
   "outputs": [],
   "source": [
    "import json\n",
    "import pandas as pd"
   ]
  },
  {
   "cell_type": "code",
   "execution_count": 8,
   "id": "0ae50f11",
   "metadata": {},
   "outputs": [],
   "source": [
    "with open('rain_1203.json', 'r') as f:\n",
    "    data = json.load(f)"
   ]
  },
  {
   "cell_type": "code",
   "execution_count": 9,
   "id": "4e5438eb",
   "metadata": {},
   "outputs": [
    {
     "name": "stdout",
     "output_type": "stream",
     "text": [
      "   device_id                    name  latitude  longitude\n",
      "0        S77          Alexandra Road   1.29370  103.81250\n",
      "1       S109     Ang Mo Kio Avenue 5   1.37640  103.84920\n",
      "2        S90        Bukit Timah Road   1.31910  103.81910\n",
      "3       S114  Choa Chu Kang Avenue 4   1.38000  103.73000\n",
      "4        S50           Clementi Road   1.33370  103.77680\n",
      "..       ...                     ...       ...        ...\n",
      "63       S36    Upper Serangoon Road   1.33820  103.86570\n",
      "64       S08      Upper Thomson Road   1.37010  103.82710\n",
      "65      S116      West Coast Highway   1.28100  103.75400\n",
      "66      S104      Woodlands Avenue 9   1.44387  103.78538\n",
      "67      S100          Woodlands Road   1.41720  103.74855\n",
      "\n",
      "[68 rows x 4 columns]\n",
      "(68, 4)\n"
     ]
    }
   ],
   "source": [
    "## Extract stations ##\n",
    "stations = data['metadata']['stations']\n",
    "# print(len(stations)) #-- 13\n",
    "sts = []\n",
    "for st in range(0,len(stations)):\n",
    "    temp = [stations[st]['device_id'],stations[st]['name'], stations[st]['location']['latitude'],stations[st]['location']['longitude']]\n",
    "    sts.append(temp)\n",
    "\n",
    "# Location and camera info for a day\n",
    "loc_cam = pd.DataFrame(sts, columns=['device_id', 'name','latitude', 'longitude'])\n",
    "print(loc_cam)\n",
    "print(loc_cam.shape)"
   ]
  },
  {
   "cell_type": "code",
   "execution_count": 10,
   "id": "cac5b1c8",
   "metadata": {},
   "outputs": [
    {
     "name": "stdout",
     "output_type": "stream",
     "text": [
      "                      time_stamp device_id  value\n",
      "12935  2022-03-12T16:05:00+08:00       S08    0.0\n",
      "12265  2022-03-12T15:15:00+08:00       S08    0.0\n",
      "8179   2022-03-12T10:10:00+08:00       S08    0.0\n",
      "3150   2022-03-12T03:55:00+08:00       S08    0.0\n",
      "12332  2022-03-12T15:20:00+08:00       S08    0.0\n",
      "8112   2022-03-12T10:05:00+08:00       S08    0.0\n",
      "(19237, 3)\n",
      "(1609, 2)\n"
     ]
    }
   ],
   "source": [
    "## Process for 12 hrs a day ##\n",
    "\n",
    "values = data['items']\n",
    "\n",
    "readings = []\n",
    "for rd in range(0,len(values)):\n",
    "    r_list = values[rd]['readings']\n",
    "    time = values[rd]['timestamp']\n",
    "    for r_ in range(len(r_list)):\n",
    "        readings.append([time,r_list[r_]['station_id'],r_list[r_]['value']])\n",
    "        \n",
    "rain_unsort = pd.DataFrame(readings, columns=['time_stamp', 'device_id','value'])\n",
    "\n",
    "rain = rain_unsort.sort_values(by=['device_id'])\n",
    "\n",
    "print(rain[:6])\n",
    "print(rain.shape)\n",
    "\n",
    "g = rain.groupby('device_id').cumcount()\n",
    "val_hr = rain.groupby(['device_id',g // 12]).mean().reset_index(level=1, drop=True).reset_index()\n",
    "print(val_hr.shape) #(14*24)"
   ]
  },
  {
   "cell_type": "code",
   "execution_count": 11,
   "id": "1f88228d",
   "metadata": {},
   "outputs": [
    {
     "name": "stdout",
     "output_type": "stream",
     "text": [
      "     device_id            name  latitude  longitude  value\n",
      "0          S77  Alexandra Road    1.2937  103.81250    0.0\n",
      "1          S77  Alexandra Road    1.2937  103.81250    0.0\n",
      "2          S77  Alexandra Road    1.2937  103.81250    0.0\n",
      "3          S77  Alexandra Road    1.2937  103.81250    0.0\n",
      "4          S77  Alexandra Road    1.2937  103.81250    0.0\n",
      "...        ...             ...       ...        ...    ...\n",
      "1604      S100  Woodlands Road    1.4172  103.74855    0.0\n",
      "1605      S100  Woodlands Road    1.4172  103.74855    0.0\n",
      "1606      S100  Woodlands Road    1.4172  103.74855    0.0\n",
      "1607      S100  Woodlands Road    1.4172  103.74855    0.0\n",
      "1608      S100  Woodlands Road    1.4172  103.74855    0.0\n",
      "\n",
      "[1609 rows x 5 columns]\n"
     ]
    }
   ],
   "source": [
    "T1 = pd.merge(loc_cam, val_hr, on='device_id', how='inner')\n",
    "print(T1)"
   ]
  },
  {
   "cell_type": "code",
   "execution_count": 12,
   "id": "1f73e49a",
   "metadata": {},
   "outputs": [],
   "source": [
    "T1.to_csv('rain.csv', sep='\\t')"
   ]
  }
 ],
 "metadata": {
  "kernelspec": {
   "display_name": "Python 3 (ipykernel)",
   "language": "python",
   "name": "python3"
  },
  "language_info": {
   "codemirror_mode": {
    "name": "ipython",
    "version": 3
   },
   "file_extension": ".py",
   "mimetype": "text/x-python",
   "name": "python",
   "nbconvert_exporter": "python",
   "pygments_lexer": "ipython3",
   "version": "3.9.7"
  }
 },
 "nbformat": 4,
 "nbformat_minor": 5
}
