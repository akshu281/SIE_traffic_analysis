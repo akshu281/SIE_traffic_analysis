{
 "cells": [
  {
   "cell_type": "markdown",
   "id": "1c939b40",
   "metadata": {},
   "source": [
    "Air temperature readings at weather-station level, upto one-minute interval"
   ]
  },
  {
   "cell_type": "code",
   "execution_count": 7,
   "id": "8b960943",
   "metadata": {},
   "outputs": [],
   "source": [
    "import json\n",
    "import pandas as pd"
   ]
  },
  {
   "cell_type": "code",
   "execution_count": 8,
   "id": "299a9aeb",
   "metadata": {},
   "outputs": [],
   "source": [
    "with open('temp_1203.json', 'r') as f:\n",
    "    data = json.load(f)"
   ]
  },
  {
   "cell_type": "code",
   "execution_count": 9,
   "id": "5541f9cc",
   "metadata": {},
   "outputs": [
    {
     "name": "stdout",
     "output_type": "stream",
     "text": [
      "   device_id                     name  latitude  longitude\n",
      "0       S109      Ang Mo Kio Avenue 5   1.37640  103.84920\n",
      "1        S50            Clementi Road   1.33370  103.77680\n",
      "2       S107       East Coast Parkway   1.31350  103.96250\n",
      "3        S43           Kim Chuan Road   1.33990  103.88780\n",
      "4       S108     Marina Gardens Drive   1.27990  103.87030\n",
      "5        S44           Nanyang Avenue   1.34583  103.68166\n",
      "6       S121   Old Choa Chu Kang Road   1.37288  103.72244\n",
      "7       S106               Pulau Ubin   1.41680  103.96730\n",
      "8       S111              Scotts Road   1.31055  103.83650\n",
      "9       S115      Tuas South Avenue 3   1.29377  103.61843\n",
      "10       S24  Upper Changi Road North   1.36780  103.98260\n",
      "11      S116       West Coast Highway   1.28100  103.75400\n",
      "12      S104       Woodlands Avenue 9   1.44387  103.78538\n",
      "13      S100           Woodlands Road   1.41720  103.74855\n",
      "(14, 4)\n"
     ]
    }
   ],
   "source": [
    "## Extract stations ##\n",
    "stations = data['metadata']['stations']\n",
    "# print(len(stations)) #-- 13\n",
    "sts = []\n",
    "for st in range(0,len(stations)):\n",
    "    temp_ = [stations[st]['device_id'],stations[st]['name'], stations[st]['location']['latitude'],stations[st]['location']['longitude']]\n",
    "    sts.append(temp_)\n",
    "\n",
    "# Location and camera info for a day\n",
    "loc_cam = pd.DataFrame(sts, columns=['device_id', 'name','latitude', 'longitude'])\n",
    "print(loc_cam)\n",
    "print(loc_cam.shape)"
   ]
  },
  {
   "cell_type": "code",
   "execution_count": 10,
   "id": "9a6bba37",
   "metadata": {},
   "outputs": [
    {
     "name": "stdout",
     "output_type": "stream",
     "text": [
      "                      time_stamp device_id  value\n",
      "19928  2022-03-12T23:59:00+08:00      S100   26.9\n",
      "4761   2022-03-12T05:42:00+08:00      S100   25.5\n",
      "17808  2022-03-12T21:27:00+08:00      S100   28.0\n",
      "12860  2022-03-12T15:30:00+08:00      S100   34.3\n",
      "12846  2022-03-12T15:29:00+08:00      S100   34.6\n",
      "4775   2022-03-12T05:43:00+08:00      S100   25.5\n",
      "(19929, 3)\n",
      "(334, 2)\n"
     ]
    }
   ],
   "source": [
    "## Process for 12 hrs a day ##\n",
    "\n",
    "values = data['items']\n",
    "readings = []\n",
    "for rd in range(0,len(values)):\n",
    "    r_list = values[rd]['readings']\n",
    "    time = values[rd]['timestamp']\n",
    "    for r_ in range(len(r_list)):\n",
    "        readings.append([time,r_list[r_]['station_id'],r_list[r_]['value']])\n",
    "        \n",
    "air_temp_unsort = pd.DataFrame(readings, columns=['time_stamp', 'device_id','value'])\n",
    "\n",
    "air_temp = air_temp_unsort.sort_values(by=['device_id'])\n",
    "\n",
    "print(air_temp[:6])\n",
    "print(air_temp.shape)\n",
    "\n",
    "\n",
    "g = air_temp.groupby('device_id').cumcount()\n",
    "val_hr = air_temp.groupby(['device_id',g // 60]).mean().reset_index(level=1, drop=True).reset_index()\n",
    "print(val_hr.shape) #(14*24)"
   ]
  },
  {
   "cell_type": "code",
   "execution_count": 11,
   "id": "e60403d1",
   "metadata": {},
   "outputs": [
    {
     "name": "stdout",
     "output_type": "stream",
     "text": [
      "    device_id                 name  latitude  longitude      value\n",
      "0        S109  Ang Mo Kio Avenue 5    1.3764  103.84920  28.606667\n",
      "1        S109  Ang Mo Kio Avenue 5    1.3764  103.84920  28.296667\n",
      "2        S109  Ang Mo Kio Avenue 5    1.3764  103.84920  28.143333\n",
      "3        S109  Ang Mo Kio Avenue 5    1.3764  103.84920  28.446667\n",
      "4        S109  Ang Mo Kio Avenue 5    1.3764  103.84920  29.196667\n",
      "..        ...                  ...       ...        ...        ...\n",
      "329      S100       Woodlands Road    1.4172  103.74855  28.370000\n",
      "330      S100       Woodlands Road    1.4172  103.74855  28.325000\n",
      "331      S100       Woodlands Road    1.4172  103.74855  28.228333\n",
      "332      S100       Woodlands Road    1.4172  103.74855  28.305000\n",
      "333      S100       Woodlands Road    1.4172  103.74855  28.075439\n",
      "\n",
      "[334 rows x 5 columns]\n"
     ]
    }
   ],
   "source": [
    "T1 = pd.merge(loc_cam, val_hr, on='device_id', how='inner')\n",
    "print(T1)\n",
    "\n",
    "## 24 hrs aggregated air temp value from 14 cams for a day --> 336 rows x 5 columns ## "
   ]
  },
  {
   "cell_type": "code",
   "execution_count": 12,
   "id": "57de38cf",
   "metadata": {},
   "outputs": [],
   "source": [
    "T1.to_csv('temperature.csv', sep='\\t')"
   ]
  }
 ],
 "metadata": {
  "kernelspec": {
   "display_name": "Python 3 (ipykernel)",
   "language": "python",
   "name": "python3"
  },
  "language_info": {
   "codemirror_mode": {
    "name": "ipython",
    "version": 3
   },
   "file_extension": ".py",
   "mimetype": "text/x-python",
   "name": "python",
   "nbconvert_exporter": "python",
   "pygments_lexer": "ipython3",
   "version": "3.9.7"
  }
 },
 "nbformat": 4,
 "nbformat_minor": 5
}
