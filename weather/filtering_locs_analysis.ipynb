{
 "cells": [
  {
   "cell_type": "markdown",
   "id": "f01486db",
   "metadata": {},
   "source": [
    "Filter locations that can be mapped to the traffic-images dataset and merge rain & temp data"
   ]
  },
  {
   "cell_type": "code",
   "execution_count": 1,
   "id": "e99dfa1b",
   "metadata": {},
   "outputs": [],
   "source": [
    "import pandas as pd\n",
    "import warnings\n",
    "warnings.filterwarnings('ignore')"
   ]
  },
  {
   "cell_type": "code",
   "execution_count": 3,
   "id": "1a87df63",
   "metadata": {},
   "outputs": [
    {
     "name": "stdout",
     "output_type": "stream",
     "text": [
      "(48, 5)\n",
      "(24, 5)\n"
     ]
    }
   ],
   "source": [
    "temp = pd.read_csv('temperature.csv', sep='\\t', index_col=0)\n",
    "woodlands_temp = temp[temp['name'].str.contains(\"Woodlands\")]\n",
    "tuas_temp = temp[temp['name'].str.contains(\"Tuas\")]\n",
    "\n",
    "print(woodlands_temp.shape)\n",
    "print(tuas_temp.shape)"
   ]
  },
  {
   "cell_type": "code",
   "execution_count": 4,
   "id": "a5372a82",
   "metadata": {},
   "outputs": [
    {
     "name": "stdout",
     "output_type": "stream",
     "text": [
      "(48, 5)\n",
      "(24, 5)\n"
     ]
    }
   ],
   "source": [
    "rain = pd.read_csv('rain.csv', sep='\\t', index_col=0)\n",
    "woodlands_rain = rain[rain['name'].str.contains(\"Woodlands\")]\n",
    "tuas_rain = rain[rain['name'].str.contains(\"Tuas South Avenue 3\")]\n",
    "\n",
    "print(woodlands_rain.shape)\n",
    "print(tuas_rain.shape)\n",
    "# print(tuas_rain) "
   ]
  },
  {
   "cell_type": "code",
   "execution_count": 28,
   "id": "2291286d",
   "metadata": {},
   "outputs": [
    {
     "name": "stdout",
     "output_type": "stream",
     "text": [
      "48\n",
      "24\n"
     ]
    }
   ],
   "source": [
    "tuas_rain_list = tuas_rain['value'].tolist()\n",
    "woodlands_rain_list = woodlands_rain['value'].tolist()\n",
    "\n",
    "print(len(woodlands_rain_list))\n",
    "print(len(tuas_rain_list))"
   ]
  },
  {
   "cell_type": "code",
   "execution_count": 29,
   "id": "a5077868",
   "metadata": {},
   "outputs": [],
   "source": [
    "column_values = pd.Series(woodlands_rain_list)\n",
    "woodlands_temp['rain_value'] = woodlands_rain_list\n",
    "woodlands_temp.columns = ['temp_value' if x=='value' else x for x in woodlands_temp.columns]\n",
    "# print(woodlands_temp)"
   ]
  },
  {
   "cell_type": "code",
   "execution_count": 30,
   "id": "42176bc4",
   "metadata": {},
   "outputs": [
    {
     "name": "stdout",
     "output_type": "stream",
     "text": [
      "    device_id                 name  latitude  longitude  temp_value  \\\n",
      "216      S115  Tuas South Avenue 3   1.29377  103.61843   28.515000   \n",
      "217      S115  Tuas South Avenue 3   1.29377  103.61843   28.363333   \n",
      "218      S115  Tuas South Avenue 3   1.29377  103.61843   28.775000   \n",
      "219      S115  Tuas South Avenue 3   1.29377  103.61843   28.578333   \n",
      "220      S115  Tuas South Avenue 3   1.29377  103.61843   28.626667   \n",
      "221      S115  Tuas South Avenue 3   1.29377  103.61843   28.618333   \n",
      "222      S115  Tuas South Avenue 3   1.29377  103.61843   28.391667   \n",
      "223      S115  Tuas South Avenue 3   1.29377  103.61843   28.725000   \n",
      "224      S115  Tuas South Avenue 3   1.29377  103.61843   28.591667   \n",
      "225      S115  Tuas South Avenue 3   1.29377  103.61843   28.260000   \n",
      "226      S115  Tuas South Avenue 3   1.29377  103.61843   28.428333   \n",
      "227      S115  Tuas South Avenue 3   1.29377  103.61843   28.505000   \n",
      "228      S115  Tuas South Avenue 3   1.29377  103.61843   27.933333   \n",
      "229      S115  Tuas South Avenue 3   1.29377  103.61843   27.815000   \n",
      "230      S115  Tuas South Avenue 3   1.29377  103.61843   28.020000   \n",
      "231      S115  Tuas South Avenue 3   1.29377  103.61843   28.251667   \n",
      "232      S115  Tuas South Avenue 3   1.29377  103.61843   27.706667   \n",
      "233      S115  Tuas South Avenue 3   1.29377  103.61843   27.408333   \n",
      "234      S115  Tuas South Avenue 3   1.29377  103.61843   27.361667   \n",
      "235      S115  Tuas South Avenue 3   1.29377  103.61843   27.705000   \n",
      "236      S115  Tuas South Avenue 3   1.29377  103.61843   27.686667   \n",
      "237      S115  Tuas South Avenue 3   1.29377  103.61843   28.065000   \n",
      "238      S115  Tuas South Avenue 3   1.29377  103.61843   28.778333   \n",
      "239      S115  Tuas South Avenue 3   1.29377  103.61843   28.454386   \n",
      "\n",
      "     rain_value  \n",
      "216         0.0  \n",
      "217         0.0  \n",
      "218         0.0  \n",
      "219         0.0  \n",
      "220         0.0  \n",
      "221         0.0  \n",
      "222         0.0  \n",
      "223         0.0  \n",
      "224         0.0  \n",
      "225         0.0  \n",
      "226         0.0  \n",
      "227         0.0  \n",
      "228         0.0  \n",
      "229         0.0  \n",
      "230         0.0  \n",
      "231         0.0  \n",
      "232         0.0  \n",
      "233         0.0  \n",
      "234         0.0  \n",
      "235         0.0  \n",
      "236         0.0  \n",
      "237         0.0  \n",
      "238         0.0  \n",
      "239         0.0  \n"
     ]
    }
   ],
   "source": [
    "column_values = pd.Series(tuas_rain_list)\n",
    "tuas_temp['rain_value'] = tuas_rain_list\n",
    "tuas_temp.columns = ['temp_value' if x=='value' else x for x in tuas_temp.columns]\n",
    "print(tuas_temp)"
   ]
  },
  {
   "cell_type": "code",
   "execution_count": 31,
   "id": "d68e7b97",
   "metadata": {},
   "outputs": [],
   "source": [
    "tuas_temp.to_csv('tuas_weather_data.csv', sep='\\t')\n",
    "woodlands_temp.to_csv('woodlands_weather_data.csv', sep='\\t')"
   ]
  }
 ],
 "metadata": {
  "kernelspec": {
   "display_name": "Python 3 (ipykernel)",
   "language": "python",
   "name": "python3"
  },
  "language_info": {
   "codemirror_mode": {
    "name": "ipython",
    "version": 3
   },
   "file_extension": ".py",
   "mimetype": "text/x-python",
   "name": "python",
   "nbconvert_exporter": "python",
   "pygments_lexer": "ipython3",
   "version": "3.9.7"
  }
 },
 "nbformat": 4,
 "nbformat_minor": 5
}
