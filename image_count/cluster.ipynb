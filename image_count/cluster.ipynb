{
 "cells": [
  {
   "cell_type": "markdown",
   "id": "9861428f",
   "metadata": {},
   "source": [
    "To cluster retrieved subset of images and to filter the locations to map it back to weather data"
   ]
  },
  {
   "cell_type": "code",
   "execution_count": 2,
   "id": "3f51db69",
   "metadata": {},
   "outputs": [],
   "source": [
    "import pandas as pd\n",
    "import numpy as np\n",
    "import matplotlib.pyplot as plt\n",
    "from sklearn.cluster import KMeans\n",
    "import seaborn as sns; sns.set()\n",
    "import csv\n",
    "import warnings\n",
    "warnings.filterwarnings('ignore')"
   ]
  },
  {
   "cell_type": "code",
   "execution_count": 104,
   "id": "7c038ec7",
   "metadata": {},
   "outputs": [
    {
     "name": "stdout",
     "output_type": "stream",
     "text": [
      "(124484, 7)\n"
     ]
    },
    {
     "data": {
      "text/html": [
       "<div>\n",
       "<style scoped>\n",
       "    .dataframe tbody tr th:only-of-type {\n",
       "        vertical-align: middle;\n",
       "    }\n",
       "\n",
       "    .dataframe tbody tr th {\n",
       "        vertical-align: top;\n",
       "    }\n",
       "\n",
       "    .dataframe thead th {\n",
       "        text-align: right;\n",
       "    }\n",
       "</style>\n",
       "<table border=\"1\" class=\"dataframe\">\n",
       "  <thead>\n",
       "    <tr style=\"text-align: right;\">\n",
       "      <th></th>\n",
       "      <th>timestamp</th>\n",
       "      <th>url</th>\n",
       "      <th>latitude</th>\n",
       "      <th>longitude</th>\n",
       "      <th>device_id</th>\n",
       "      <th>md5</th>\n",
       "      <th>count</th>\n",
       "    </tr>\n",
       "  </thead>\n",
       "  <tbody>\n",
       "    <tr>\n",
       "      <th>0</th>\n",
       "      <td>2022-03-09T23:59:52+08:00</td>\n",
       "      <td>https://images.data.gov.sg/api/traffic-images/...</td>\n",
       "      <td>1.295313</td>\n",
       "      <td>103.871146</td>\n",
       "      <td>1001</td>\n",
       "      <td>f1730fe528197ef204cbfdea31bcc618</td>\n",
       "      <td>0.0</td>\n",
       "    </tr>\n",
       "    <tr>\n",
       "      <th>1</th>\n",
       "      <td>2022-03-09T23:59:52+08:00</td>\n",
       "      <td>https://images.data.gov.sg/api/traffic-images/...</td>\n",
       "      <td>1.319541</td>\n",
       "      <td>103.878563</td>\n",
       "      <td>1002</td>\n",
       "      <td>8750875e660ce8094af27ca1544ca183</td>\n",
       "      <td>0.0</td>\n",
       "    </tr>\n",
       "    <tr>\n",
       "      <th>2</th>\n",
       "      <td>2022-03-09T23:59:52+08:00</td>\n",
       "      <td>https://images.data.gov.sg/api/traffic-images/...</td>\n",
       "      <td>1.323957</td>\n",
       "      <td>103.872858</td>\n",
       "      <td>1003</td>\n",
       "      <td>f90e8645319764308f2da335eec4afdc</td>\n",
       "      <td>0.0</td>\n",
       "    </tr>\n",
       "    <tr>\n",
       "      <th>3</th>\n",
       "      <td>2022-03-09T23:59:52+08:00</td>\n",
       "      <td>https://images.data.gov.sg/api/traffic-images/...</td>\n",
       "      <td>1.319536</td>\n",
       "      <td>103.875067</td>\n",
       "      <td>1004</td>\n",
       "      <td>50c20c962a18726686ebb390932487f1</td>\n",
       "      <td>4.0</td>\n",
       "    </tr>\n",
       "    <tr>\n",
       "      <th>4</th>\n",
       "      <td>2022-03-09T23:59:52+08:00</td>\n",
       "      <td>https://images.data.gov.sg/api/traffic-images/...</td>\n",
       "      <td>1.363520</td>\n",
       "      <td>103.905394</td>\n",
       "      <td>1005</td>\n",
       "      <td>d4fb57d3ccd30c6b061eeb78463f8d9f</td>\n",
       "      <td>0.0</td>\n",
       "    </tr>\n",
       "  </tbody>\n",
       "</table>\n",
       "</div>"
      ],
      "text/plain": [
       "                   timestamp  \\\n",
       "0  2022-03-09T23:59:52+08:00   \n",
       "1  2022-03-09T23:59:52+08:00   \n",
       "2  2022-03-09T23:59:52+08:00   \n",
       "3  2022-03-09T23:59:52+08:00   \n",
       "4  2022-03-09T23:59:52+08:00   \n",
       "\n",
       "                                                 url  latitude   longitude  \\\n",
       "0  https://images.data.gov.sg/api/traffic-images/...  1.295313  103.871146   \n",
       "1  https://images.data.gov.sg/api/traffic-images/...  1.319541  103.878563   \n",
       "2  https://images.data.gov.sg/api/traffic-images/...  1.323957  103.872858   \n",
       "3  https://images.data.gov.sg/api/traffic-images/...  1.319536  103.875067   \n",
       "4  https://images.data.gov.sg/api/traffic-images/...  1.363520  103.905394   \n",
       "\n",
       "   device_id                               md5  count  \n",
       "0       1001  f1730fe528197ef204cbfdea31bcc618    0.0  \n",
       "1       1002  8750875e660ce8094af27ca1544ca183    0.0  \n",
       "2       1003  f90e8645319764308f2da335eec4afdc    0.0  \n",
       "3       1004  50c20c962a18726686ebb390932487f1    4.0  \n",
       "4       1005  d4fb57d3ccd30c6b061eeb78463f8d9f    0.0  "
      ]
     },
     "execution_count": 104,
     "metadata": {},
     "output_type": "execute_result"
    }
   ],
   "source": [
    "df = pd.read_csv('imgs_metadata_count.csv')\n",
    "\n",
    "print(df.shape)\n",
    "df.head(5)"
   ]
  },
  {
   "cell_type": "code",
   "execution_count": 105,
   "id": "dd543f41",
   "metadata": {},
   "outputs": [
    {
     "data": {
      "text/html": [
       "<div>\n",
       "<style scoped>\n",
       "    .dataframe tbody tr th:only-of-type {\n",
       "        vertical-align: middle;\n",
       "    }\n",
       "\n",
       "    .dataframe tbody tr th {\n",
       "        vertical-align: top;\n",
       "    }\n",
       "\n",
       "    .dataframe thead th {\n",
       "        text-align: right;\n",
       "    }\n",
       "</style>\n",
       "<table border=\"1\" class=\"dataframe\">\n",
       "  <thead>\n",
       "    <tr style=\"text-align: right;\">\n",
       "      <th></th>\n",
       "      <th>url</th>\n",
       "      <th>latitude</th>\n",
       "      <th>longitude</th>\n",
       "    </tr>\n",
       "  </thead>\n",
       "  <tbody>\n",
       "    <tr>\n",
       "      <th>0</th>\n",
       "      <td>https://images.data.gov.sg/api/traffic-images/...</td>\n",
       "      <td>1.295313</td>\n",
       "      <td>103.871146</td>\n",
       "    </tr>\n",
       "    <tr>\n",
       "      <th>1</th>\n",
       "      <td>https://images.data.gov.sg/api/traffic-images/...</td>\n",
       "      <td>1.319541</td>\n",
       "      <td>103.878563</td>\n",
       "    </tr>\n",
       "    <tr>\n",
       "      <th>2</th>\n",
       "      <td>https://images.data.gov.sg/api/traffic-images/...</td>\n",
       "      <td>1.323957</td>\n",
       "      <td>103.872858</td>\n",
       "    </tr>\n",
       "    <tr>\n",
       "      <th>3</th>\n",
       "      <td>https://images.data.gov.sg/api/traffic-images/...</td>\n",
       "      <td>1.319536</td>\n",
       "      <td>103.875067</td>\n",
       "    </tr>\n",
       "    <tr>\n",
       "      <th>4</th>\n",
       "      <td>https://images.data.gov.sg/api/traffic-images/...</td>\n",
       "      <td>1.363520</td>\n",
       "      <td>103.905394</td>\n",
       "    </tr>\n",
       "    <tr>\n",
       "      <th>5</th>\n",
       "      <td>https://images.data.gov.sg/api/traffic-images/...</td>\n",
       "      <td>1.357099</td>\n",
       "      <td>103.902042</td>\n",
       "    </tr>\n",
       "    <tr>\n",
       "      <th>6</th>\n",
       "      <td>https://images.data.gov.sg/api/traffic-images/...</td>\n",
       "      <td>1.274144</td>\n",
       "      <td>103.851317</td>\n",
       "    </tr>\n",
       "    <tr>\n",
       "      <th>7</th>\n",
       "      <td>https://images.data.gov.sg/api/traffic-images/...</td>\n",
       "      <td>1.271351</td>\n",
       "      <td>103.861828</td>\n",
       "    </tr>\n",
       "    <tr>\n",
       "      <th>8</th>\n",
       "      <td>https://images.data.gov.sg/api/traffic-images/...</td>\n",
       "      <td>1.270664</td>\n",
       "      <td>103.856978</td>\n",
       "    </tr>\n",
       "    <tr>\n",
       "      <th>9</th>\n",
       "      <td>https://images.data.gov.sg/api/traffic-images/...</td>\n",
       "      <td>1.294099</td>\n",
       "      <td>103.876056</td>\n",
       "    </tr>\n",
       "  </tbody>\n",
       "</table>\n",
       "</div>"
      ],
      "text/plain": [
       "                                                 url  latitude   longitude\n",
       "0  https://images.data.gov.sg/api/traffic-images/...  1.295313  103.871146\n",
       "1  https://images.data.gov.sg/api/traffic-images/...  1.319541  103.878563\n",
       "2  https://images.data.gov.sg/api/traffic-images/...  1.323957  103.872858\n",
       "3  https://images.data.gov.sg/api/traffic-images/...  1.319536  103.875067\n",
       "4  https://images.data.gov.sg/api/traffic-images/...  1.363520  103.905394\n",
       "5  https://images.data.gov.sg/api/traffic-images/...  1.357099  103.902042\n",
       "6  https://images.data.gov.sg/api/traffic-images/...  1.274144  103.851317\n",
       "7  https://images.data.gov.sg/api/traffic-images/...  1.271351  103.861828\n",
       "8  https://images.data.gov.sg/api/traffic-images/...  1.270664  103.856978\n",
       "9  https://images.data.gov.sg/api/traffic-images/...  1.294099  103.876056"
      ]
     },
     "execution_count": 105,
     "metadata": {},
     "output_type": "execute_result"
    }
   ],
   "source": [
    "# Variable with the Longitude and Latitude\n",
    "X=df.loc[:,['url','latitude','longitude']]\n",
    "X.head(10)"
   ]
  },
  {
   "cell_type": "code",
   "execution_count": 106,
   "id": "b8c24d5b",
   "metadata": {},
   "outputs": [
    {
     "name": "stdout",
     "output_type": "stream",
     "text": [
      "[[  1.30492465 103.8600845 ]\n",
      " [  1.32542784 103.77758339]\n",
      " [  1.34467507 103.67252747]\n",
      " [  1.35157856 103.93402669]\n",
      " [  1.40818446 103.79300949]]\n"
     ]
    },
    {
     "data": {
      "text/html": [
       "<div>\n",
       "<style scoped>\n",
       "    .dataframe tbody tr th:only-of-type {\n",
       "        vertical-align: middle;\n",
       "    }\n",
       "\n",
       "    .dataframe tbody tr th {\n",
       "        vertical-align: top;\n",
       "    }\n",
       "\n",
       "    .dataframe thead th {\n",
       "        text-align: right;\n",
       "    }\n",
       "</style>\n",
       "<table border=\"1\" class=\"dataframe\">\n",
       "  <thead>\n",
       "    <tr style=\"text-align: right;\">\n",
       "      <th></th>\n",
       "      <th>url</th>\n",
       "      <th>latitude</th>\n",
       "      <th>longitude</th>\n",
       "      <th>cluster_label</th>\n",
       "    </tr>\n",
       "  </thead>\n",
       "  <tbody>\n",
       "    <tr>\n",
       "      <th>0</th>\n",
       "      <td>https://images.data.gov.sg/api/traffic-images/...</td>\n",
       "      <td>1.295313</td>\n",
       "      <td>103.871146</td>\n",
       "      <td>0</td>\n",
       "    </tr>\n",
       "    <tr>\n",
       "      <th>1</th>\n",
       "      <td>https://images.data.gov.sg/api/traffic-images/...</td>\n",
       "      <td>1.319541</td>\n",
       "      <td>103.878563</td>\n",
       "      <td>0</td>\n",
       "    </tr>\n",
       "    <tr>\n",
       "      <th>2</th>\n",
       "      <td>https://images.data.gov.sg/api/traffic-images/...</td>\n",
       "      <td>1.323957</td>\n",
       "      <td>103.872858</td>\n",
       "      <td>0</td>\n",
       "    </tr>\n",
       "    <tr>\n",
       "      <th>3</th>\n",
       "      <td>https://images.data.gov.sg/api/traffic-images/...</td>\n",
       "      <td>1.319536</td>\n",
       "      <td>103.875067</td>\n",
       "      <td>0</td>\n",
       "    </tr>\n",
       "    <tr>\n",
       "      <th>4</th>\n",
       "      <td>https://images.data.gov.sg/api/traffic-images/...</td>\n",
       "      <td>1.363520</td>\n",
       "      <td>103.905394</td>\n",
       "      <td>3</td>\n",
       "    </tr>\n",
       "    <tr>\n",
       "      <th>5</th>\n",
       "      <td>https://images.data.gov.sg/api/traffic-images/...</td>\n",
       "      <td>1.357099</td>\n",
       "      <td>103.902042</td>\n",
       "      <td>3</td>\n",
       "    </tr>\n",
       "    <tr>\n",
       "      <th>6</th>\n",
       "      <td>https://images.data.gov.sg/api/traffic-images/...</td>\n",
       "      <td>1.274144</td>\n",
       "      <td>103.851317</td>\n",
       "      <td>0</td>\n",
       "    </tr>\n",
       "    <tr>\n",
       "      <th>7</th>\n",
       "      <td>https://images.data.gov.sg/api/traffic-images/...</td>\n",
       "      <td>1.271351</td>\n",
       "      <td>103.861828</td>\n",
       "      <td>0</td>\n",
       "    </tr>\n",
       "    <tr>\n",
       "      <th>8</th>\n",
       "      <td>https://images.data.gov.sg/api/traffic-images/...</td>\n",
       "      <td>1.270664</td>\n",
       "      <td>103.856978</td>\n",
       "      <td>0</td>\n",
       "    </tr>\n",
       "    <tr>\n",
       "      <th>9</th>\n",
       "      <td>https://images.data.gov.sg/api/traffic-images/...</td>\n",
       "      <td>1.294099</td>\n",
       "      <td>103.876056</td>\n",
       "      <td>0</td>\n",
       "    </tr>\n",
       "  </tbody>\n",
       "</table>\n",
       "</div>"
      ],
      "text/plain": [
       "                                                 url  latitude   longitude  \\\n",
       "0  https://images.data.gov.sg/api/traffic-images/...  1.295313  103.871146   \n",
       "1  https://images.data.gov.sg/api/traffic-images/...  1.319541  103.878563   \n",
       "2  https://images.data.gov.sg/api/traffic-images/...  1.323957  103.872858   \n",
       "3  https://images.data.gov.sg/api/traffic-images/...  1.319536  103.875067   \n",
       "4  https://images.data.gov.sg/api/traffic-images/...  1.363520  103.905394   \n",
       "5  https://images.data.gov.sg/api/traffic-images/...  1.357099  103.902042   \n",
       "6  https://images.data.gov.sg/api/traffic-images/...  1.274144  103.851317   \n",
       "7  https://images.data.gov.sg/api/traffic-images/...  1.271351  103.861828   \n",
       "8  https://images.data.gov.sg/api/traffic-images/...  1.270664  103.856978   \n",
       "9  https://images.data.gov.sg/api/traffic-images/...  1.294099  103.876056   \n",
       "\n",
       "   cluster_label  \n",
       "0              0  \n",
       "1              0  \n",
       "2              0  \n",
       "3              0  \n",
       "4              3  \n",
       "5              3  \n",
       "6              0  \n",
       "7              0  \n",
       "8              0  \n",
       "9              0  "
      ]
     },
     "execution_count": 106,
     "metadata": {},
     "output_type": "execute_result"
    }
   ],
   "source": [
    "## Clustering Algorithm ##\n",
    "\n",
    "kmeans = KMeans(n_clusters = 5, init ='k-means++')\n",
    "kmeans.fit(X[X.columns[1:3]]) \n",
    "# Compute k-means \n",
    "X['cluster_label'] = kmeans.fit_predict(X[X.columns[1:3]])\n",
    "centers = kmeans.cluster_centers_ \n",
    "\n",
    "print(centers)\n",
    "# Coordinates of cluster \n",
    "labels = kmeans.predict(X[X.columns[1:3]]) \n",
    "# Labels of each point\n",
    "X.head(10)\n",
    "\n",
    "\n",
    "####Centers####\n",
    "\n",
    "# [[  1.32542784 103.77758339] (0)\n",
    "#  [  1.30263091 103.86012605] -- North west (1)\n",
    "#  [  1.34467507 103.67252747] (2)\n",
    "#  [  1.40648304 103.79647934] (3)\n",
    "#  [  1.35157856 103.93402669]] -- North (4)"
   ]
  },
  {
   "cell_type": "code",
   "execution_count": 107,
   "id": "1aa1f993",
   "metadata": {},
   "outputs": [
    {
     "data": {
      "text/plain": [
       "<matplotlib.collections.PathCollection at 0x1e493a39b50>"
      ]
     },
     "execution_count": 107,
     "metadata": {},
     "output_type": "execute_result"
    },
    {
     "data": {
      "image/png": "[encoded data removed]",
      "text/plain": [
       "<Figure size 432x288 with 2 Axes>"
      ]
     },
     "metadata": {},
     "output_type": "display_data"
    }
   ],
   "source": [
    "X.plot.scatter(x = 'latitude', y = 'longitude', c=labels, s=50, cmap='viridis')\n",
    "plt.scatter(centers[:, 0], centers[:, 1], c='black', s=200, alpha=0.5)"
   ]
  },
  {
   "cell_type": "code",
   "execution_count": 108,
   "id": "d92d7629",
   "metadata": {},
   "outputs": [
    {
     "name": "stdout",
     "output_type": "stream",
     "text": [
      "(124484, 1)\n",
      "124484\n"
     ]
    }
   ],
   "source": [
    "X = X[['cluster_label']]\n",
    "print(X.shape)\n",
    "X.head(5)\n",
    "X_list = X['cluster_label'].tolist()\n",
    "print(len(X_list))"
   ]
  },
  {
   "cell_type": "code",
   "execution_count": 109,
   "id": "cb948a85",
   "metadata": {},
   "outputs": [
    {
     "data": {
      "text/plain": [
       "(124484, 8)"
      ]
     },
     "execution_count": 109,
     "metadata": {},
     "output_type": "execute_result"
    }
   ],
   "source": [
    "df['cluster_label'] = X_list\n",
    "df.head(5)\n",
    "df.shape  #(124484, 8)"
   ]
  },
  {
   "cell_type": "code",
   "execution_count": 110,
   "id": "1e0bdd21",
   "metadata": {},
   "outputs": [],
   "source": [
    "df.to_csv ('clustered_data.csv', index=None, header = True)"
   ]
  },
  {
   "cell_type": "code",
   "execution_count": 111,
   "id": "8e01a9bc",
   "metadata": {},
   "outputs": [
    {
     "data": {
      "text/plain": [
       "(25755, 8)"
      ]
     },
     "execution_count": 111,
     "metadata": {},
     "output_type": "execute_result"
    }
   ],
   "source": [
    "#### Woodlands area ####\n",
    "temp = [4]\n",
    "clustered_data_wood = df[df.cluster_label.isin(temp)]\n",
    "clustered_data_wood.shape "
   ]
  },
  {
   "cell_type": "code",
   "execution_count": 112,
   "id": "233389ca",
   "metadata": {},
   "outputs": [
    {
     "data": {
      "text/plain": [
       "(18586, 8)"
      ]
     },
     "execution_count": 112,
     "metadata": {},
     "output_type": "execute_result"
    }
   ],
   "source": [
    "#### Tuas area ####\n",
    "temp = [1]\n",
    "clustered_data_tuas = df[df.cluster_label.isin(temp)]\n",
    "clustered_data_tuas.shape "
   ]
  },
  {
   "cell_type": "code",
   "execution_count": 113,
   "id": "502279bb",
   "metadata": {},
   "outputs": [
    {
     "name": "stdout",
     "output_type": "stream",
     "text": [
      "               timestamp                                                url  \\\n",
      "22  2022-03-09 23:59:52   https://images.data.gov.sg/api/traffic-images/...   \n",
      "24  2022-03-09 23:59:52   https://images.data.gov.sg/api/traffic-images/...   \n",
      "36  2022-03-09 23:59:52   https://images.data.gov.sg/api/traffic-images/...   \n",
      "40  2022-03-09 23:59:52   https://images.data.gov.sg/api/traffic-images/...   \n",
      "41  2022-03-09 23:59:52   https://images.data.gov.sg/api/traffic-images/...   \n",
      "\n",
      "    latitude   longitude  device_id                               md5  count  \\\n",
      "22  1.350478  103.791034       2703  84b8bd8c32ecb73d9203ba8429cf91a3    4.0   \n",
      "24  1.367286  103.779470       2705  9cc1f7659b419d620196d863594ef3bb    6.0   \n",
      "36  1.287100  103.796330       4701  cc6da4ebdc9625a0e8ef82869c422925    3.0   \n",
      "40  1.326180  103.730280       4705  2ce7ae8de72b875f3d5473316ff49d82    0.0   \n",
      "41  1.297920  103.782050       4706  fd2b3455cea1042bcd3f356f1453c983    1.0   \n",
      "\n",
      "    cluster_label  \n",
      "22              1  \n",
      "24              1  \n",
      "36              1  \n",
      "40              1  \n",
      "41              1  \n"
     ]
    }
   ],
   "source": [
    "clustered_data_tuas['timestamp'] = clustered_data_tuas['timestamp'].str.replace('T',' ')\n",
    "clustered_data_tuas['timestamp'] = clustered_data_tuas['timestamp'].str.replace('\\+08:00',' ')\n",
    "\n",
    "print(clustered_data_tuas.head(5))\n",
    "\n",
    "# clustered_data_tuas.to_csv('temp_tuas_cls.csv', sep='\\t')"
   ]
  },
  {
   "cell_type": "code",
   "execution_count": 114,
   "id": "ccfbed76",
   "metadata": {},
   "outputs": [],
   "source": [
    "clustered_data_tuas_sort = clustered_data_tuas.sort_values(by=['timestamp'], ascending=True)\n",
    "clustered_data_tuas_sort.to_csv('temp_tuas_cls.csv', sep='\\t')"
   ]
  },
  {
   "cell_type": "code",
   "execution_count": 115,
   "id": "21e86ca7",
   "metadata": {},
   "outputs": [
    {
     "data": {
      "text/plain": [
       "(223, 1)"
      ]
     },
     "execution_count": 115,
     "metadata": {},
     "output_type": "execute_result"
    }
   ],
   "source": [
    "temp_grp = clustered_data_tuas_sort.groupby(['timestamp']).sum()[[\"count\"]]\n",
    "temp_grp.shape"
   ]
  },
  {
   "cell_type": "code",
   "execution_count": 116,
   "id": "2f21cdda",
   "metadata": {},
   "outputs": [],
   "source": [
    "temp_grp.to_csv('grp_tuas.csv', sep='\\t')"
   ]
  },
  {
   "cell_type": "code",
   "execution_count": 117,
   "id": "c755cad0",
   "metadata": {},
   "outputs": [
    {
     "name": "stdout",
     "output_type": "stream",
     "text": [
      "                      count\n",
      "timestamp                  \n",
      "2022-03-09 23:59:52   222.0\n",
      "2022-03-10 00:05:52    93.0\n",
      "2022-03-10 00:08:52   132.0\n",
      "2022-03-10 00:14:12   186.0\n",
      "2022-03-10 00:20:13   110.0\n",
      "...                     ...\n",
      "2022-03-10 23:38:49     0.0\n",
      "2022-03-10 23:44:29     0.0\n",
      "2022-03-10 23:49:09     0.0\n",
      "2022-03-10 23:54:10     0.0\n",
      "2022-03-10 23:58:10     0.0\n",
      "\n",
      "[223 rows x 1 columns]\n"
     ]
    }
   ],
   "source": [
    "print(temp_grp)"
   ]
  },
  {
   "cell_type": "code",
   "execution_count": 3,
   "id": "8218d0f8",
   "metadata": {},
   "outputs": [],
   "source": [
    "tuas = pd.read_csv('grp_tuas.csv', sep='\\t', parse_dates=['timestamp'],index_col=0)\n",
    "tuas = tuas.iloc[1: , :]  #Removing previous day data"
   ]
  },
  {
   "cell_type": "code",
   "execution_count": 4,
   "id": "0065cb64",
   "metadata": {},
   "outputs": [
    {
     "name": "stdout",
     "output_type": "stream",
     "text": [
      "                     count\n",
      "timestamp                 \n",
      "2022-03-10 00:05:52   93.0\n",
      "2022-03-10 00:08:52  132.0\n",
      "2022-03-10 00:14:12  186.0\n",
      "2022-03-10 00:20:13  110.0\n",
      "2022-03-10 00:25:33   93.0\n",
      "...                    ...\n",
      "2022-03-10 23:38:49    0.0\n",
      "2022-03-10 23:44:29    0.0\n",
      "2022-03-10 23:49:09    0.0\n",
      "2022-03-10 23:54:10    0.0\n",
      "2022-03-10 23:58:10    0.0\n",
      "\n",
      "[222 rows x 1 columns]\n"
     ]
    }
   ],
   "source": [
    "print(tuas)"
   ]
  },
  {
   "cell_type": "code",
   "execution_count": 5,
   "id": "7f5824ba",
   "metadata": {},
   "outputs": [
    {
     "name": "stdout",
     "output_type": "stream",
     "text": [
      "(63, 1)\n"
     ]
    }
   ],
   "source": [
    "indexNames = tuas[tuas['count'] == 0.0].index\n",
    "tuas.drop(indexNames , inplace=True)\n",
    "print(tuas.shape)"
   ]
  },
  {
   "cell_type": "code",
   "execution_count": 6,
   "id": "d4db7921",
   "metadata": {},
   "outputs": [
    {
     "name": "stdout",
     "output_type": "stream",
     "text": [
      "                     count\n",
      "timestamp                 \n",
      "2022-03-10 00:05:52   93.0\n",
      "2022-03-10 00:08:52  132.0\n",
      "2022-03-10 00:14:12  186.0\n",
      "2022-03-10 00:20:13  110.0\n",
      "2022-03-10 00:25:33   93.0\n",
      "...                    ...\n",
      "2022-03-10 04:53:43  114.0\n",
      "2022-03-10 04:59:23   70.0\n",
      "2022-03-10 05:04:24   70.0\n",
      "2022-03-10 05:09:24   70.0\n",
      "2022-03-10 05:14:24   84.0\n",
      "\n",
      "[63 rows x 1 columns]\n"
     ]
    }
   ],
   "source": [
    "print(tuas)\n",
    "tuas.to_csv('temp_lagless_tuas.csv', sep='\\t')"
   ]
  },
  {
   "cell_type": "code",
   "execution_count": 7,
   "id": "dff67c0b",
   "metadata": {},
   "outputs": [
    {
     "name": "stdout",
     "output_type": "stream",
     "text": [
      "    count\n",
      "0    93.0\n",
      "1   132.0\n",
      "2   186.0\n",
      "3   110.0\n",
      "4    93.0\n",
      "..    ...\n",
      "58  114.0\n",
      "59   70.0\n",
      "60   70.0\n",
      "61   70.0\n",
      "62   84.0\n",
      "\n",
      "[63 rows x 1 columns]\n"
     ]
    }
   ],
   "source": [
    "tuas.reset_index(inplace = True, drop = True)\n",
    "print(tuas)\n",
    "tuas.to_csv('tuas_count_input.csv', sep='\\t')"
   ]
  },
  {
   "cell_type": "code",
   "execution_count": 73,
   "id": "d65e9f90",
   "metadata": {},
   "outputs": [
    {
     "name": "stdout",
     "output_type": "stream",
     "text": [
      "    count\n",
      "0  1345.0\n",
      "1   962.0\n",
      "2   679.0\n",
      "3   634.0\n",
      "4   728.0\n",
      "5   224.0\n"
     ]
    }
   ],
   "source": [
    "df = pd.read_csv('tuas_count_input.csv', sep='\\t', index_col=0)\n",
    "# print(df)\n",
    "d = {'count': 'sum'}\n",
    "res = df.groupby(df.index // 12).agg(d)\n",
    "print(res)"
   ]
  },
  {
   "cell_type": "code",
   "execution_count": 74,
   "id": "d94bb2aa",
   "metadata": {},
   "outputs": [
    {
     "name": "stdout",
     "output_type": "stream",
     "text": [
      "[1345.0, 962.0, 679.0, 634.0, 728.0, 224.0]\n"
     ]
    }
   ],
   "source": [
    "vals = res['count'].tolist()\n",
    "print(vals)"
   ]
  },
  {
   "cell_type": "code",
   "execution_count": 75,
   "id": "a85adf45",
   "metadata": {},
   "outputs": [],
   "source": [
    "data = {'datetime' : pd.date_range(start='3/10/2022',\n",
    "                                  end='03/13/2022', \n",
    "                                  freq='H')}"
   ]
  },
  {
   "cell_type": "code",
   "execution_count": 76,
   "id": "86d1fcd8",
   "metadata": {},
   "outputs": [],
   "source": [
    "import numpy as np\n",
    "\n",
    "df = pd.DataFrame(data, columns = ['datetime'])                              \n",
    "nan_list = [np.nan] * (len(df)-len(vals))\n",
    "count_final_input_list = vals+nan_list"
   ]
  },
  {
   "cell_type": "code",
   "execution_count": 77,
   "id": "b6d00f15",
   "metadata": {},
   "outputs": [
    {
     "name": "stdout",
     "output_type": "stream",
     "text": [
      "              datetime   count\n",
      "0  2022-03-10 00:00:00  1345.0\n",
      "1  2022-03-10 01:00:00   962.0\n",
      "2  2022-03-10 02:00:00   679.0\n",
      "3  2022-03-10 03:00:00   634.0\n",
      "4  2022-03-10 04:00:00   728.0\n",
      "..                 ...     ...\n",
      "68 2022-03-12 20:00:00     NaN\n",
      "69 2022-03-12 21:00:00     NaN\n",
      "70 2022-03-12 22:00:00     NaN\n",
      "71 2022-03-12 23:00:00     NaN\n",
      "72 2022-03-13 00:00:00     NaN\n",
      "\n",
      "[73 rows x 2 columns]\n"
     ]
    }
   ],
   "source": [
    "df['count'] = count_final_input_list\n",
    "print(df)"
   ]
  },
  {
   "cell_type": "code",
   "execution_count": 80,
   "id": "ab1fdd31",
   "metadata": {},
   "outputs": [
    {
     "name": "stdout",
     "output_type": "stream",
     "text": [
      "              datetime  count\n",
      "67 2022-03-12 19:00:00    762\n",
      "68 2022-03-12 20:00:00    762\n",
      "69 2022-03-12 21:00:00    762\n",
      "70 2022-03-12 22:00:00    762\n",
      "71 2022-03-12 23:00:00    762\n"
     ]
    }
   ],
   "source": [
    "## To fill empty values; interpolate with mean ##\n",
    "\n",
    "# final = df.fillna(method='ffill').fillna(method='bfill')\n",
    "# print (final\n",
    "#final.to_csv('final_count.csv', sep='\\t'))\n",
    "df['count'] = df['count'].fillna(df['count'].mean())\n",
    "df['count'] = df['count'].astype(int)\n",
    "df.drop(df.tail(1).index,inplace=True) # drop last n rows\n",
    "print(df.tail(5))"
   ]
  },
  {
   "cell_type": "code",
   "execution_count": 81,
   "id": "0c221889",
   "metadata": {},
   "outputs": [],
   "source": [
    "df.to_csv('count.csv', sep='\\t')"
   ]
  }
 ],
 "metadata": {
  "kernelspec": {
   "display_name": "Python 3 (ipykernel)",
   "language": "python",
   "name": "python3"
  },
  "language_info": {
   "codemirror_mode": {
    "name": "ipython",
    "version": 3
   },
   "file_extension": ".py",
   "mimetype": "text/x-python",
   "name": "python",
   "nbconvert_exporter": "python",
   "pygments_lexer": "ipython3",
   "version": "3.9.7"
  }
 },
 "nbformat": 4,
 "nbformat_minor": 5
}
