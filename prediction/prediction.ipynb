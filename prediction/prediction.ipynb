{
 "cells": [
  {
   "cell_type": "markdown",
   "id": "5ca8db25",
   "metadata": {},
   "source": [
    "Simple Linear Regression"
   ]
  },
  {
   "cell_type": "code",
   "execution_count": 39,
   "id": "f00a173b",
   "metadata": {},
   "outputs": [],
   "source": [
    "import pandas as pd\n",
    "import numpy as np\n",
    "import sklearn \n",
    "from sklearn.linear_model import LinearRegression\n",
    "from sklearn.model_selection import train_test_split\n",
    "from sklearn import metrics"
   ]
  },
  {
   "cell_type": "code",
   "execution_count": 40,
   "id": "8a166b46",
   "metadata": {},
   "outputs": [
    {
     "name": "stdout",
     "output_type": "stream",
     "text": [
      "          timestamp device_id                 name  latitude  longitude  \\\n",
      "216  10/3/2022 0:00      S115  Tuas South Avenue 3   1.29377  103.61843   \n",
      "217  10/3/2022 1:00      S115  Tuas South Avenue 3   1.29377  103.61843   \n",
      "218  10/3/2022 2:00      S115  Tuas South Avenue 3   1.29377  103.61843   \n",
      "219  10/3/2022 3:00      S115  Tuas South Avenue 3   1.29377  103.61843   \n",
      "220  10/3/2022 4:00      S115  Tuas South Avenue 3   1.29377  103.61843   \n",
      "\n",
      "     temp_value  rain_value  count  \n",
      "216   28.051667    0.033333   1345  \n",
      "217   28.095000    0.000000    962  \n",
      "218   27.800000    0.033333    679  \n",
      "219   27.976667    0.000000    634  \n",
      "220   27.750000    0.033333    728  \n"
     ]
    }
   ],
   "source": [
    "traffic = pd.read_csv('traffic_flow.csv', index_col=0)\n",
    "print(traffic.head(5))"
   ]
  },
  {
   "cell_type": "code",
   "execution_count": 52,
   "id": "b27bf095",
   "metadata": {},
   "outputs": [
    {
     "name": "stdout",
     "output_type": "stream",
     "text": [
      "           latitude     longitude  temp_value  rain_value        count\n",
      "count  7.200000e+01  7.200000e+01   72.000000   72.000000    72.000000\n",
      "mean   1.293770e+00  1.036184e+02   27.751262    0.004398   762.000000\n",
      "std    1.118014e-15  2.003481e-13    0.746333    0.018971    98.849865\n",
      "min    1.293770e+00  1.036184e+02   25.480000    0.000000   224.000000\n",
      "25%    1.293770e+00  1.036184e+02   27.515000    0.000000   762.000000\n",
      "50%    1.293770e+00  1.036184e+02   27.864167    0.000000   762.000000\n",
      "75%    1.293770e+00  1.036184e+02   28.161250    0.000000   762.000000\n",
      "max    1.293770e+00  1.036184e+02   28.778333    0.150000  1345.000000\n"
     ]
    }
   ],
   "source": [
    "print(traffic.describe())\n",
    "\n",
    "X = traffic.iloc[:, 5:-1].values\n",
    "y = traffic.iloc[:, -1].values\n",
    "\n",
    "# print(X)\n",
    "# print(y)"
   ]
  },
  {
   "cell_type": "code",
   "execution_count": 53,
   "id": "54a3bdf3",
   "metadata": {},
   "outputs": [],
   "source": [
    "X_train, X_test, y_train, y_test = train_test_split(X, y, test_size=0.2, random_state=0)"
   ]
  },
  {
   "cell_type": "code",
   "execution_count": 54,
   "id": "698ce576",
   "metadata": {},
   "outputs": [
    {
     "data": {
      "text/plain": [
       "LinearRegression()"
      ]
     },
     "execution_count": 54,
     "metadata": {},
     "output_type": "execute_result"
    }
   ],
   "source": [
    "regressor = LinearRegression()\n",
    "regressor.fit(X_train, y_train)"
   ]
  },
  {
   "cell_type": "code",
   "execution_count": 55,
   "id": "fc24f1e0",
   "metadata": {},
   "outputs": [
    {
     "name": "stdout",
     "output_type": "stream",
     "text": [
      "476.4434261178874\n",
      "[  10.13317392 1627.86422195]\n"
     ]
    }
   ],
   "source": [
    "print(regressor.intercept_)\n",
    "print(regressor.coef_)"
   ]
  },
  {
   "cell_type": "code",
   "execution_count": 56,
   "id": "25ef963b",
   "metadata": {},
   "outputs": [],
   "source": [
    "y_pred = regressor.predict(X_test)"
   ]
  },
  {
   "cell_type": "code",
   "execution_count": 57,
   "id": "644fbc90",
   "metadata": {},
   "outputs": [
    {
     "data": {
      "text/html": [
       "<div>\n",
       "<style scoped>\n",
       "    .dataframe tbody tr th:only-of-type {\n",
       "        vertical-align: middle;\n",
       "    }\n",
       "\n",
       "    .dataframe tbody tr th {\n",
       "        vertical-align: top;\n",
       "    }\n",
       "\n",
       "    .dataframe thead th {\n",
       "        text-align: right;\n",
       "    }\n",
       "</style>\n",
       "<table border=\"1\" class=\"dataframe\">\n",
       "  <thead>\n",
       "    <tr style=\"text-align: right;\">\n",
       "      <th></th>\n",
       "      <th>Actual</th>\n",
       "      <th>Predicted</th>\n",
       "    </tr>\n",
       "  </thead>\n",
       "  <tbody>\n",
       "    <tr>\n",
       "      <th>0</th>\n",
       "      <td>762</td>\n",
       "      <td>759.142090</td>\n",
       "    </tr>\n",
       "    <tr>\n",
       "      <th>1</th>\n",
       "      <td>762</td>\n",
       "      <td>757.571448</td>\n",
       "    </tr>\n",
       "    <tr>\n",
       "      <th>2</th>\n",
       "      <td>762</td>\n",
       "      <td>765.390880</td>\n",
       "    </tr>\n",
       "    <tr>\n",
       "      <th>3</th>\n",
       "      <td>762</td>\n",
       "      <td>734.636697</td>\n",
       "    </tr>\n",
       "    <tr>\n",
       "      <th>4</th>\n",
       "      <td>762</td>\n",
       "      <td>759.006981</td>\n",
       "    </tr>\n",
       "    <tr>\n",
       "      <th>5</th>\n",
       "      <td>762</td>\n",
       "      <td>766.032648</td>\n",
       "    </tr>\n",
       "    <tr>\n",
       "      <th>6</th>\n",
       "      <td>762</td>\n",
       "      <td>999.099567</td>\n",
       "    </tr>\n",
       "    <tr>\n",
       "      <th>7</th>\n",
       "      <td>762</td>\n",
       "      <td>765.289549</td>\n",
       "    </tr>\n",
       "    <tr>\n",
       "      <th>8</th>\n",
       "      <td>762</td>\n",
       "      <td>758.314547</td>\n",
       "    </tr>\n",
       "    <tr>\n",
       "      <th>9</th>\n",
       "      <td>762</td>\n",
       "      <td>764.776668</td>\n",
       "    </tr>\n",
       "    <tr>\n",
       "      <th>10</th>\n",
       "      <td>762</td>\n",
       "      <td>766.167757</td>\n",
       "    </tr>\n",
       "    <tr>\n",
       "      <th>11</th>\n",
       "      <td>762</td>\n",
       "      <td>758.719874</td>\n",
       "    </tr>\n",
       "    <tr>\n",
       "      <th>12</th>\n",
       "      <td>762</td>\n",
       "      <td>757.655891</td>\n",
       "    </tr>\n",
       "    <tr>\n",
       "      <th>13</th>\n",
       "      <td>762</td>\n",
       "      <td>761.894935</td>\n",
       "    </tr>\n",
       "    <tr>\n",
       "      <th>14</th>\n",
       "      <td>762</td>\n",
       "      <td>758.719874</td>\n",
       "    </tr>\n",
       "  </tbody>\n",
       "</table>\n",
       "</div>"
      ],
      "text/plain": [
       "    Actual   Predicted\n",
       "0      762  759.142090\n",
       "1      762  757.571448\n",
       "2      762  765.390880\n",
       "3      762  734.636697\n",
       "4      762  759.006981\n",
       "5      762  766.032648\n",
       "6      762  999.099567\n",
       "7      762  765.289549\n",
       "8      762  758.314547\n",
       "9      762  764.776668\n",
       "10     762  766.167757\n",
       "11     762  758.719874\n",
       "12     762  757.655891\n",
       "13     762  761.894935\n",
       "14     762  758.719874"
      ]
     },
     "execution_count": 57,
     "metadata": {},
     "output_type": "execute_result"
    }
   ],
   "source": [
    "df = pd.DataFrame({'Actual': y_test, 'Predicted': y_pred})\n",
    "df"
   ]
  },
  {
   "cell_type": "code",
   "execution_count": 58,
   "id": "2fa9a778",
   "metadata": {},
   "outputs": [
    {
     "name": "stdout",
     "output_type": "stream",
     "text": [
      "Mean Absolute Error: 20.47298208751209\n",
      "Mean Squared Error: 3807.9558584993097\n",
      "Root Mean Squared Error: 61.70863682256569\n"
     ]
    }
   ],
   "source": [
    "print('Mean Absolute Error:', metrics.mean_absolute_error(y_test, y_pred))\n",
    "print('Mean Squared Error:', metrics.mean_squared_error(y_test, y_pred))\n",
    "print('Root Mean Squared Error:', np.sqrt(metrics.mean_squared_error(y_test, y_pred)))"
   ]
  }
 ],
 "metadata": {
  "kernelspec": {
   "display_name": "Python 3 (ipykernel)",
   "language": "python",
   "name": "python3"
  },
  "language_info": {
   "codemirror_mode": {
    "name": "ipython",
    "version": 3
   },
   "file_extension": ".py",
   "mimetype": "text/x-python",
   "name": "python",
   "nbconvert_exporter": "python",
   "pygments_lexer": "ipython3",
   "version": "3.9.7"
  }
 },
 "nbformat": 4,
 "nbformat_minor": 5
}
