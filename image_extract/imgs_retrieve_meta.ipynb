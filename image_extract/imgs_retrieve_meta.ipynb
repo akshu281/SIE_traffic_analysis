{
 "cells": [
  {
   "cell_type": "markdown",
   "id": "731855a1",
   "metadata": {},
   "source": [
    "To fetch the images from APIs (input JSONs obtained from images.ipynb)"
   ]
  },
  {
   "cell_type": "code",
   "execution_count": 3,
   "id": "6bd60a7b",
   "metadata": {},
   "outputs": [
    {
     "name": "stdout",
     "output_type": "stream",
     "text": [
      "1440\n"
     ]
    }
   ],
   "source": [
    "import glob\n",
    "import json\n",
    "files = glob.glob(\"img_jsons\\*\")\n",
    "print(len(files))"
   ]
  },
  {
   "cell_type": "code",
   "execution_count": 4,
   "id": "263f1634",
   "metadata": {},
   "outputs": [],
   "source": [
    "urls = []\n",
    "timestamp = []\n",
    "lat = []\n",
    "long = []\n",
    "cam_id = []\n",
    "md5 = []\n",
    "\n",
    "## Parse through JSONs for image URLs for a day ##\n",
    "for f_ in range(len(files)):\n",
    "    with open(files[f_], 'r') as f:\n",
    "        data1 = json.load(f)\n",
    "        cam_data = data1['items'][0]['cameras']\n",
    "        cam_no = len(data1['items'][0]['cameras'])\n",
    "        for i in range(0,cam_no):\n",
    "            val = cam_data[i]\n",
    "            urls.append(val['image'])\n",
    "            timestamp.append(val['timestamp'])\n",
    "            lat.append(val['location']['latitude'])\n",
    "            long.append(val['location']['longitude'])\n",
    "            cam_id.append(val['camera_id'])\n",
    "            md5.append(val['image_metadata']['md5'])"
   ]
  },
  {
   "cell_type": "code",
   "execution_count": 7,
   "id": "03aad27a",
   "metadata": {},
   "outputs": [
    {
     "name": "stdout",
     "output_type": "stream",
     "text": [
      "124484\n",
      "124484\n",
      "124484\n",
      "124484\n",
      "124484\n",
      "124484\n"
     ]
    }
   ],
   "source": [
    "print(len(timestamp))\n",
    "print(len(urls))\n",
    "print(len(lat))\n",
    "print(len(long))\n",
    "print(len(cam_id))\n",
    "print(len(md5))"
   ]
  },
  {
   "cell_type": "code",
   "execution_count": 8,
   "id": "fe270b26",
   "metadata": {},
   "outputs": [],
   "source": [
    "rows = zip(timestamp, urls, lat, long, cam_id, md5)"
   ]
  },
  {
   "cell_type": "code",
   "execution_count": 9,
   "id": "c261e451",
   "metadata": {},
   "outputs": [],
   "source": [
    "import csv\n",
    "\n",
    "with open('imgs_metadata.csv', \"w\", newline='') as f:\n",
    "    writer = csv.writer(f)\n",
    "    for row in rows:\n",
    "        writer.writerow(row)"
   ]
  },
  {
   "cell_type": "code",
   "execution_count": 12,
   "id": "6ac79efb",
   "metadata": {},
   "outputs": [],
   "source": [
    "import requests\n",
    "import shutil\n",
    "import time\n",
    "\n",
    "## To save images locally and also record files names##\n",
    "myfile = open('file_names.txt', 'w')\n",
    "\n",
    "for i in range(27000,len(urls)):\n",
    "    name = urls[i].split(\"/\")[7]\n",
    "    res = requests.get(urls[i], stream=True)\n",
    "    if res.status_code == 200:\n",
    "        path = \"images/\"+str(i)+'.jpg'\n",
    "        with open(path ,'wb') as f:\n",
    "            shutil.copyfileobj(res.raw, f)\n",
    "#         print('Image sucessfully Downloaded: ',path)\n",
    "        myfile.write(\"%s\\n\" % urls[i])\n",
    "    else:\n",
    "        print('Image Couldn\\'t be retrieved')\n",
    "        \n",
    "    time.sleep(1)"
   ]
  },
  {
   "cell_type": "code",
   "execution_count": 2,
   "id": "81faa695",
   "metadata": {},
   "outputs": [],
   "source": [
    "myfile.close()"
   ]
  }
 ],
 "metadata": {
  "kernelspec": {
   "display_name": "Python 3 (ipykernel)",
   "language": "python",
   "name": "python3"
  },
  "language_info": {
   "codemirror_mode": {
    "name": "ipython",
    "version": 3
   },
   "file_extension": ".py",
   "mimetype": "text/x-python",
   "name": "python",
   "nbconvert_exporter": "python",
   "pygments_lexer": "ipython3",
   "version": "3.9.7"
  }
 },
 "nbformat": 4,
 "nbformat_minor": 5
}
