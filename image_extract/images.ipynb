{
 "cells": [
  {
   "cell_type": "markdown",
   "id": "dd92edf3",
   "metadata": {},
   "source": [
    "To extract and store the jsons from the traffic-images API"
   ]
  },
  {
   "cell_type": "code",
   "execution_count": 1,
   "id": "1a76de3f",
   "metadata": {},
   "outputs": [],
   "source": [
    "import json\n",
    "import requests\n",
    "import time"
   ]
  },
  {
   "cell_type": "code",
   "execution_count": 6,
   "id": "c5c9a34d",
   "metadata": {},
   "outputs": [],
   "source": [
    "time_min = 0\n",
    "time_hr = 0\n",
    "\n",
    "for h in range(0,24):\n",
    "    for m in range(0,60):\n",
    "        if h < 10:\n",
    "            time_str = \"0\"+str(h)\n",
    "        else:\n",
    "            time_str = str(h)\n",
    "        if m < 10:\n",
    "            time_str = time_str+\":0\"+str(m)\n",
    "        else:\n",
    "            time_str = time_str+\":\"+str(m)\n",
    "            \n",
    "        time_str = time_str+\":00\"\n",
    "\n",
    "        query = \"2022-03-10T\"+time_str\n",
    "        response = requests.get('https://api.data.gov.sg/v1/transport/traffic-images', params={'date_time':query})\n",
    "        json_data = response.json()\n",
    "        json_file = \"img_jsons/\"+\"data_\"+time_str.split(':')[0]+time_str.split(':')[1]+\".json\"\n",
    "        with open(json_file, 'w') as json_file:\n",
    "            json.dump(json_data, json_file)\n",
    "            \n",
    "        time.sleep(1)"
   ]
  }
 ],
 "metadata": {
  "kernelspec": {
   "display_name": "Python 3 (ipykernel)",
   "language": "python",
   "name": "python3"
  },
  "language_info": {
   "codemirror_mode": {
    "name": "ipython",
    "version": 3
   },
   "file_extension": ".py",
   "mimetype": "text/x-python",
   "name": "python",
   "nbconvert_exporter": "python",
   "pygments_lexer": "ipython3",
   "version": "3.9.7"
  }
 },
 "nbformat": 4,
 "nbformat_minor": 5
}
