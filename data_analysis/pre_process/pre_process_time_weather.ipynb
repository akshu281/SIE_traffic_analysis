{
 "cells": [
  {
   "cell_type": "markdown",
   "id": "57d9b7df",
   "metadata": {},
   "source": [
    "To generate timestamps for locations"
   ]
  },
  {
   "cell_type": "code",
   "execution_count": 16,
   "id": "5d326d38",
   "metadata": {},
   "outputs": [],
   "source": [
    "from pandas import read_csv"
   ]
  },
  {
   "cell_type": "code",
   "execution_count": 20,
   "id": "cc16e642",
   "metadata": {},
   "outputs": [],
   "source": [
    "tuas = read_csv('tuas_weather_data.csv',index_col=0)\n",
    "tuas['timestamp'] = tuas['timestamp'].str.replace('T',' ')"
   ]
  },
  {
   "cell_type": "code",
   "execution_count": 21,
   "id": "c4f37297",
   "metadata": {},
   "outputs": [
    {
     "name": "stdout",
     "output_type": "stream",
     "text": [
      "(24, 7)\n",
      "               timestamp device_id                 name  latitude  longitude  \\\n",
      "216  2022-03-10 00:00:00      S115  Tuas South Avenue 3   1.29377  103.61843   \n",
      "217  2022-03-10 01:00:00      S115  Tuas South Avenue 3   1.29377  103.61843   \n",
      "218  2022-03-10 02:00:00      S115  Tuas South Avenue 3   1.29377  103.61843   \n",
      "219  2022-03-10 03:00:00      S115  Tuas South Avenue 3   1.29377  103.61843   \n",
      "220  2022-03-10 04:00:00      S115  Tuas South Avenue 3   1.29377  103.61843   \n",
      "\n",
      "     temp_value  rain_value  \n",
      "216   28.051667    0.033333  \n",
      "217   28.095000    0.000000  \n",
      "218   27.800000    0.033333  \n",
      "219   27.976667    0.000000  \n",
      "220   27.750000    0.033333  \n"
     ]
    }
   ],
   "source": [
    "print(tuas.shape)\n",
    "print(tuas.head(5))"
   ]
  },
  {
   "cell_type": "code",
   "execution_count": 22,
   "id": "67adb4bf",
   "metadata": {},
   "outputs": [
    {
     "name": "stdout",
     "output_type": "stream",
     "text": [
      "(24, 7)\n",
      "(24, 7)\n",
      "               timestamp device_id            name  latitude  longitude  \\\n",
      "312  2022-03-10 00:00:00      S100  Woodlands Road    1.4172  103.74855   \n",
      "313  2022-03-10 01:00:00      S100  Woodlands Road    1.4172  103.74855   \n",
      "314  2022-03-10 02:00:00      S100  Woodlands Road    1.4172  103.74855   \n",
      "315  2022-03-10 03:00:00      S100  Woodlands Road    1.4172  103.74855   \n",
      "316  2022-03-10 04:00:00      S100  Woodlands Road    1.4172  103.74855   \n",
      "\n",
      "     temp_value  rain_value  \n",
      "312   28.080000         0.0  \n",
      "313   27.835000         0.0  \n",
      "314   28.913333         0.0  \n",
      "315   27.788333         0.0  \n",
      "316   26.443333         0.0  \n",
      "               timestamp device_id                name  latitude  longitude  \\\n",
      "288  2022-03-10 00:00:00      S104  Woodlands Avenue 9   1.44387  103.78538   \n",
      "289  2022-03-10 01:00:00      S104  Woodlands Avenue 9   1.44387  103.78538   \n",
      "290  2022-03-10 02:00:00      S104  Woodlands Avenue 9   1.44387  103.78538   \n",
      "291  2022-03-10 03:00:00      S104  Woodlands Avenue 9   1.44387  103.78538   \n",
      "292  2022-03-10 04:00:00      S104  Woodlands Avenue 9   1.44387  103.78538   \n",
      "\n",
      "     temp_value  rain_value  \n",
      "288   27.678333           0  \n",
      "289   27.825000           0  \n",
      "290   27.710000           0  \n",
      "291   27.658333           0  \n",
      "292   27.783333           0  \n"
     ]
    }
   ],
   "source": [
    "woodlands_ave = read_csv('woodlands_ave_weather_data.csv',index_col=0)\n",
    "woodlands_ave['timestamp'] = woodlands_ave['timestamp'].str.replace('T',' ')\n",
    "woodlands_road = read_csv('woodlands_road_weather_data.csv',index_col=0)\n",
    "woodlands_road['timestamp'] = woodlands_road['timestamp'].str.replace('T',' ')\n",
    "\n",
    "print(woodlands_ave.shape)\n",
    "print(woodlands_road.shape)\n",
    "print(woodlands_road.head(5))\n",
    "print(woodlands_ave.head(5))"
   ]
  },
  {
   "cell_type": "code",
   "execution_count": 23,
   "id": "a92006e1",
   "metadata": {},
   "outputs": [],
   "source": [
    "woodlands_ave.to_csv('wd_ave.csv', sep='\\t')\n",
    "woodlands_road.to_csv('wd_rd.csv', sep='\\t')\n",
    "tuas.to_csv('tuas.csv', sep='\\t')"
   ]
  },
  {
   "cell_type": "code",
   "execution_count": null,
   "id": "441179a5",
   "metadata": {},
   "outputs": [],
   "source": []
  }
 ],
 "metadata": {
  "kernelspec": {
   "display_name": "Python 3 (ipykernel)",
   "language": "python",
   "name": "python3"
  },
  "language_info": {
   "codemirror_mode": {
    "name": "ipython",
    "version": 3
   },
   "file_extension": ".py",
   "mimetype": "text/x-python",
   "name": "python",
   "nbconvert_exporter": "python",
   "pygments_lexer": "ipython3",
   "version": "3.9.7"
  }
 },
 "nbformat": 4,
 "nbformat_minor": 5
}
